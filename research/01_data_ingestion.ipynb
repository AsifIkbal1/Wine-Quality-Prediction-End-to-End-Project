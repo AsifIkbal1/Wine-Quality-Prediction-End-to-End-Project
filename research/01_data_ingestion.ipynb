{
 "cells": [
  {
   "cell_type": "code",
   "execution_count": 1,
   "id": "3eaddcf1",
   "metadata": {},
   "outputs": [
    {
     "name": "stdout",
     "output_type": "stream",
     "text": [
      "Hello, World!\n"
     ]
    }
   ],
   "source": [
    "print(\"Hello, World!\")"
   ]
  },
  {
   "cell_type": "code",
   "execution_count": 2,
   "id": "244a3e5e",
   "metadata": {},
   "outputs": [],
   "source": [
    "import os"
   ]
  },
  {
   "cell_type": "code",
   "execution_count": 3,
   "id": "f8893f0a",
   "metadata": {},
   "outputs": [
    {
     "data": {
      "text/plain": [
       "'/Users/apple/Downloads/Project/Wine-Quality-Prediction-End-to-End-Project/research'"
      ]
     },
     "execution_count": 3,
     "metadata": {},
     "output_type": "execute_result"
    }
   ],
   "source": [
    "%pwd  #project working directory"
   ]
  },
  {
   "cell_type": "code",
   "execution_count": 4,
   "id": "5880e405",
   "metadata": {},
   "outputs": [],
   "source": [
    "os.chdir(\"../\") #change directory to parent,change directory"
   ]
  },
  {
   "cell_type": "code",
   "execution_count": 5,
   "id": "aaabbafc",
   "metadata": {},
   "outputs": [
    {
     "data": {
      "text/plain": [
       "'/Users/apple/Downloads/Project/Wine-Quality-Prediction-End-to-End-Project'"
      ]
     },
     "execution_count": 5,
     "metadata": {},
     "output_type": "execute_result"
    }
   ],
   "source": [
    "%pwd"
   ]
  },
  {
   "cell_type": "code",
   "execution_count": 6,
   "id": "ee66aaa6",
   "metadata": {},
   "outputs": [],
   "source": [
    "from dataclasses import dataclass  # 🧾 dataclass ব্যবহারে সহজে configuration বা data structure তৈরি করা যায়\n",
    "from pathlib import Path  # 🗂️ ফাইল ও ডিরেক্টরি পাথ নিয়ে কাজ করার জন্য\n",
    "\n",
    "# 📦 DataIngestionConfig একটি ইম্মিউটেবল (frozen=True) কনফিগারেশন ক্লাস\n",
    "@dataclass(frozen=True)\n",
    "class DataIngestionConfig:\n",
    "    # 🗂️ মূল ডিরেক্টরি যেখানে ডেটা ইনজেশন সম্পর্কিত সব কিছু থাকবে\n",
    "    root_dir: Path\n",
    "\n",
    "    # 🌐 যেখান থেকে ডেটা ডাউনলোড করা হবে (source URL)\n",
    "    source_URL: str\n",
    "\n",
    "    # 💾 লোকাল সিস্টেমে কোথায় ZIP ফাইলটি সেভ হবে\n",
    "    local_data_file: Path\n",
    "\n",
    "    # 📂 ডেটা আনজিপ করার পর কোন ডিরেক্টরিতে রাখা হবে\n",
    "    unzip_dir: Path\n",
    "\n",
    "#config.yaml e ase data ingestion er configuration thakbe"
   ]
  },
  {
   "cell_type": "code",
   "execution_count": 7,
   "id": "e5dab53a",
   "metadata": {},
   "outputs": [],
   "source": [
    "from mlProject.constants import *\n",
    "from mlProject.utils.common import read_yaml, create_directories"
   ]
  },
  {
   "cell_type": "code",
   "execution_count": 8,
   "id": "a90fa99f",
   "metadata": {},
   "outputs": [],
   "source": [
    "class ConfigurationManager:\n",
    "    def __init__(\n",
    "        self,\n",
    "        config_filepath = CONFIG_FILE_PATH,\n",
    "        params_filepath = PARAMS_FILE_PATH,\n",
    "        schema_filepath = SCHEMA_FILE_PATH):\n",
    "\n",
    "        self.config = read_yaml(config_filepath)\n",
    "        self.params = read_yaml(params_filepath)\n",
    "        self.schema = read_yaml(schema_filepath)\n",
    "\n",
    "        create_directories([self.config.artifacts_root])\n",
    "\n",
    "\n",
    "\n",
    "    def get_data_ingestion_config(self) -> DataIngestionConfig:\n",
    "        config = self.config.data_ingestion\n",
    "\n",
    "        create_directories([config.root_dir])\n",
    "\n",
    "        data_ingestion_config = DataIngestionConfig(\n",
    "            root_dir=config.root_dir,\n",
    "            source_URL=config.source_URL,\n",
    "            local_data_file=config.local_data_file,\n",
    "            unzip_dir=config.unzip_dir\n",
    "        )\n",
    "\n",
    "        return data_ingestion_config"
   ]
  },
  {
   "cell_type": "code",
   "execution_count": 9,
   "id": "de370569",
   "metadata": {},
   "outputs": [],
   "source": [
    "import os  # 📁 ফাইল ও ডিরেক্টরি সংক্রান্ত অপারেশনের জন্য\n",
    "\n",
    "# 🌐 URL থেকে ফাইল ডাউনলোড করার জন্য urllib এর request মডিউল\n",
    "import urllib.request as request\n",
    "\n",
    "# 📦 .zip ফাইল এক্সট্রাক্ট করার জন্য\n",
    "import zipfile\n",
    "\n",
    "# 📝 প্রজেক্টের কাস্টম লগার – লগ মেসেজ জেনারেট করার জন্য\n",
    "from mlProject import logger\n",
    "\n",
    "# 📏 ফাইল সাইজ বের করার ইউটিলিটি ফাংশন\n",
    "from mlProject.utils.common import get_size\n"
   ]
  },
  {
   "cell_type": "code",
   "execution_count": 10,
   "id": "b13eb849",
   "metadata": {},
   "outputs": [],
   "source": [
    "class DataIngestion:\n",
    "    def __init__(self, config: DataIngestionConfig):\n",
    "        # ⚙️ কনফিগারেশন অবজেক্ট সেট করা হচ্ছে (যেখানে path ও URL আছে)\n",
    "        self.config = config\n",
    "\n",
    "    def download_file(self):\n",
    "        # 🌐 যদি লোকাল ফাইল আগে থেকে না থাকে, তাহলে ডাউনলোড করা হবে\n",
    "        if not os.path.exists(self.config.local_data_file):\n",
    "            filename, headers = request.urlretrieve(\n",
    "                url=self.config.source_URL,\n",
    "                filename=self.config.local_data_file\n",
    "            )\n",
    "            # ✅ সফলভাবে ডাউনলোড হলে লগে দেখানো হবে\n",
    "            logger.info(f\"{filename} download! with following info: \\n{headers}\")\n",
    "        else:\n",
    "            # 📁 ফাইল আগে থেকেই আছে, তাহলে শুধু সাইজ দেখাবে\n",
    "            logger.info(f\"File already exists of size: {get_size(Path(self.config.local_data_file))}\")\n",
    "\n",
    "    def extract_zip_file(self):\n",
    "        \"\"\"\n",
    "        📦 `.zip` ফাইল আনজিপ করে নির্ধারিত ফোল্ডারে এক্সট্রাক্ট করা হয়\n",
    "        \"\"\"\n",
    "        unzip_path = self.config.unzip_dir\n",
    "\n",
    "        # 📂 আনজিপ করার ডিরেক্টরি যদি না থাকে, তাহলে তৈরি করো\n",
    "        os.makedirs(unzip_path, exist_ok=True)\n",
    "\n",
    "        # 🔓 zip ফাইল খুলে এক্সট্রাক্ট করে নির্দিষ্ট ফোল্ডারে\n",
    "        with zipfile.ZipFile(self.config.local_data_file, 'r') as zip_ref:\n",
    "            zip_ref.extractall(unzip_path)\n",
    "            logger.info(f\"Extracted zip file to: {unzip_path}\")\n"
   ]
  },
  {
   "cell_type": "code",
   "execution_count": 14,
   "id": "b485ae5a",
   "metadata": {},
   "outputs": [
    {
     "name": "stdout",
     "output_type": "stream",
     "text": [
      "[2025-05-16 09:58:36,031: INFO: common: yaml file: config/config.yaml loaded successfully ✅]\n",
      "[2025-05-16 09:58:36,082: INFO: common: yaml file: params.yaml loaded successfully ✅]\n",
      "[2025-05-16 09:58:36,098: INFO: common: yaml file: schema.yaml loaded successfully ✅]\n",
      "[2025-05-16 09:58:36,103: INFO: common: ✅ ডিরেক্টরি তৈরি হয়েছে: artifacts]\n",
      "[2025-05-16 09:58:36,207: INFO: common: ✅ ডিরেক্টরি তৈরি হয়েছে: artifacts/data_ingestion]\n",
      "[2025-05-16 09:58:37,782: INFO: 3811897134: artifacts/data_ingestion/data.zip download! with following info: \n",
      "Connection: close\n",
      "Content-Length: 23329\n",
      "Cache-Control: max-age=300\n",
      "Content-Security-Policy: default-src 'none'; style-src 'unsafe-inline'; sandbox\n",
      "Content-Type: application/zip\n",
      "ETag: \"c69888a4ae59bc5a893392785a938ccd4937981c06ba8a9d6a21aa52b4ab5b6e\"\n",
      "Strict-Transport-Security: max-age=31536000\n",
      "X-Content-Type-Options: nosniff\n",
      "X-Frame-Options: deny\n",
      "X-XSS-Protection: 1; mode=block\n",
      "X-GitHub-Request-Id: C4C3:32E2D1:9F0369:B20E62:6826B6F9\n",
      "Accept-Ranges: bytes\n",
      "Date: Fri, 16 May 2025 03:54:34 GMT\n",
      "Via: 1.1 varnish\n",
      "X-Served-By: cache-sin-wsss1830059-SIN\n",
      "X-Cache: MISS\n",
      "X-Cache-Hits: 0\n",
      "X-Timer: S1747367674.848898,VS0,VE407\n",
      "Vary: Authorization,Accept-Encoding,Origin\n",
      "Access-Control-Allow-Origin: *\n",
      "Cross-Origin-Resource-Policy: cross-origin\n",
      "X-Fastly-Request-ID: d684bdaa6719ce5099bee7860af74fd091db606b\n",
      "Expires: Fri, 16 May 2025 03:59:34 GMT\n",
      "Source-Age: 0\n",
      "\n",
      "]\n",
      "[2025-05-16 09:58:37,796: INFO: 3811897134: Extracted zip file to: artifacts/data_ingestion]\n"
     ]
    }
   ],
   "source": [
    "try:\n",
    "    # 🛠️ কনফিগারেশন ম্যানেজার কল করে কনফিগ অবজেক্ট তৈরি করা হচ্ছে\n",
    "    config = ConfigurationManager()\n",
    "\n",
    "    # 📦 ডেটা ইনজেশন সংক্রান্ত কনফিগ সংগ্রহ\n",
    "    data_ingestion_config = config.get_data_ingestion_config()\n",
    "\n",
    "    # 🍽️ DataIngestion অবজেক্ট তৈরি\n",
    "    data_ingestion = DataIngestion(config=data_ingestion_config)\n",
    "\n",
    "    # 🌐 ডেটা ডাউনলোড করা হচ্ছে\n",
    "    data_ingestion.download_file()\n",
    "\n",
    "    # 📂 ডেটা আনজিপ করে এক্সট্রাক্ট করা হচ্ছে\n",
    "    data_ingestion.extract_zip_file()\n",
    "\n",
    "except Exception as e:\n",
    "    # ❌ যদি কোনো এরর আসে তাহলে সেটা রেইজ করা হবে\n",
    "    raise e\n"
   ]
  },
  {
   "cell_type": "code",
   "execution_count": null,
   "id": "ecab1c48",
   "metadata": {},
   "outputs": [],
   "source": []
  }
 ],
 "metadata": {
  "kernelspec": {
   "display_name": "mlproject1",
   "language": "python",
   "name": "python3"
  },
  "language_info": {
   "codemirror_mode": {
    "name": "ipython",
    "version": 3
   },
   "file_extension": ".py",
   "mimetype": "text/x-python",
   "name": "python",
   "nbconvert_exporter": "python",
   "pygments_lexer": "ipython3",
   "version": "3.8.20"
  }
 },
 "nbformat": 4,
 "nbformat_minor": 5
}
