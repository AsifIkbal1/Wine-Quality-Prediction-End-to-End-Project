{
 "cells": [
  {
   "cell_type": "code",
   "execution_count": 1,
   "id": "31fa2628",
   "metadata": {},
   "outputs": [],
   "source": [
    "import os"
   ]
  },
  {
   "cell_type": "code",
   "execution_count": 2,
   "id": "ee8efcbc",
   "metadata": {},
   "outputs": [
    {
     "data": {
      "text/plain": [
       "'/Users/apple/Downloads/Project/Wine-Quality-Prediction-End-to-End-Project/research'"
      ]
     },
     "execution_count": 2,
     "metadata": {},
     "output_type": "execute_result"
    }
   ],
   "source": [
    "%pwd\n"
   ]
  },
  {
   "cell_type": "code",
   "execution_count": 3,
   "id": "29f748a8",
   "metadata": {},
   "outputs": [],
   "source": [
    "os.chdir(\"../\")"
   ]
  },
  {
   "cell_type": "code",
   "execution_count": 4,
   "id": "ff1964e0",
   "metadata": {},
   "outputs": [
    {
     "data": {
      "text/plain": [
       "'/Users/apple/Downloads/Project/Wine-Quality-Prediction-End-to-End-Project'"
      ]
     },
     "execution_count": 4,
     "metadata": {},
     "output_type": "execute_result"
    }
   ],
   "source": [
    "%pwd"
   ]
  },
  {
   "cell_type": "code",
   "execution_count": 5,
   "id": "daad3966",
   "metadata": {},
   "outputs": [],
   "source": [
    "os.environ[\"MLFLOW_TRACKING_URI\"]=\"https://dagshub.com/AsifIkbal1/Wine-Quality-Prediction-End-to-End-Project.mlflow\"\n",
    "os.environ[\"MLFLOW_TRACKING_USERNAME\"]=\"AsifIkbal1\"\n",
    "os.environ[\"MLFLOW_TRACKING_PASSWORD\"]=\"5060c52e0077a940410147fccd4b7e04c7363288\""
   ]
  },
  {
   "cell_type": "code",
   "execution_count": 6,
   "id": "244717b4",
   "metadata": {},
   "outputs": [],
   "source": [
    "from dataclasses import dataclass\n",
    "from pathlib import Path\n",
    "\n",
    "\n",
    "# 📦 মডেল ইভ্যালুয়েশনের জন্য প্রয়োজনীয় কনফিগারেশন স্টোর করার ডাটাক্লাস\n",
    "@dataclass(frozen=True)  # 🧊 frozen=True মানে এই ক্লাসটি ইমিউটেবল (পরিবর্তন করা যাবে না)\n",
    "class ModelEvaluationConfig:\n",
    "    root_dir: Path  # 📁 রুট ডিরেক্টরি যেখানে ইভ্যালুয়েশন সম্পর্কিত সবকিছু থাকবে\n",
    "    test_data_path: Path  # 🧪 টেস্ট ডেটার লোকেশন\n",
    "    model_path: Path  # 🤖 ট্রেইন করা মডেলের লোকেশন\n",
    "    all_params: dict  # ⚙️ সব হাইপারপ্যারামিটার সংরক্ষণ করার জন্য\n",
    "    metric_file_name: Path  # 📊 মেট্রিক ফাইল যেখানে মডেলের স্কোর থাকবে\n",
    "    target_column: str  # 🎯 টার্গেট কলামের নাম\n",
    "    mlflow_uri: str  # 🔗 MLflow সার্ভারের URI যেখানে ট্র্যাকিং হবে\n"
   ]
  },
  {
   "cell_type": "code",
   "execution_count": 7,
   "id": "1dc72724",
   "metadata": {},
   "outputs": [],
   "source": [
    "from mlProject.constants import *\n",
    "from mlProject.utils.common import read_yaml, create_directories, save_json"
   ]
  },
  {
   "cell_type": "code",
   "execution_count": 8,
   "id": "1c953e88",
   "metadata": {},
   "outputs": [],
   "source": [
    "class ConfigurationManager:\n",
    "    def __init__(\n",
    "        self,\n",
    "        config_filepath = CONFIG_FILE_PATH,\n",
    "        params_filepath = PARAMS_FILE_PATH,\n",
    "        schema_filepath = SCHEMA_FILE_PATH):\n",
    "\n",
    "        # 📖 YAML ফাইলগুলো থেকে কনফিগারেশন, প্যারাম এবং স্কিমা লোড করা হচ্ছে\n",
    "        self.config = read_yaml(config_filepath)\n",
    "        self.params = read_yaml(params_filepath)\n",
    "        self.schema = read_yaml(schema_filepath)\n",
    "\n",
    "        # 📁 মূল আর্টিফ্যাক্ট ডিরেক্টরি তৈরি করা হচ্ছে (যদি না থাকে)\n",
    "        create_directories([self.config.artifacts_root])\n",
    "\n",
    "    \n",
    "    def get_model_evaluation_config(self) -> ModelEvaluationConfig:\n",
    "        # 🔧 কনফিগারেশন, প্যারামিটার এবং টার্গেট কলাম লোড করা হচ্ছে\n",
    "        config = self.config.model_evaluation\n",
    "        params = self.params.ElasticNet\n",
    "        schema = self.schema.TARGET_COLUMN\n",
    "\n",
    "        # 📂 মডেল ইভ্যালুয়েশনের জন্য রুট ডিরেক্টরি তৈরি\n",
    "        create_directories([config.root_dir])\n",
    "\n",
    "        # ✅ ModelEvaluationConfig অবজেক্ট তৈরি\n",
    "        model_evaluation_config = ModelEvaluationConfig(\n",
    "            root_dir=config.root_dir,  # 📁 মূল ডিরেক্টরি\n",
    "            test_data_path=config.test_data_path,  # 🧪 টেস্ট ডেটার পাথ\n",
    "            model_path=config.model_path,  # 🤖 ট্রেইনকৃত মডেল ফাইল পাথ\n",
    "            all_params=params,  # ⚙️ মডেল হাইপারপ্যারামিটারস\n",
    "            metric_file_name=config.metric_file_name,  # 📊 মেট্রিক সংরক্ষণের জন্য ফাইল পাথ\n",
    "            target_column=schema.name,  # 🎯 টার্গেট কলামের নাম\n",
    "            mlflow_uri=\"https://dagshub.com/AsifIkbal1/Wine-Quality-Prediction-End-to-End-Project.mlflow\",  # 🌐 MLflow tracking URI\n",
    "        )\n",
    "\n",
    "        return model_evaluation_config  # 🔄 কনফিগারেশন রিটার্ন করা হচ্ছে\n"
   ]
  },
  {
   "cell_type": "code",
   "execution_count": 9,
   "id": "e4cc28ab",
   "metadata": {},
   "outputs": [],
   "source": [
    "import os\n",
    "import pandas as pd\n",
    "from sklearn.metrics import mean_squared_error, mean_absolute_error, r2_score\n",
    "from urllib.parse import urlparse\n",
    "import mlflow\n",
    "import mlflow.sklearn\n",
    "import numpy as np\n",
    "import joblib"
   ]
  },
  {
   "cell_type": "code",
   "execution_count": 10,
   "id": "311cc6d0",
   "metadata": {},
   "outputs": [],
   "source": [
    "class ModelEvaluation:\n",
    "    def __init__(self, config: ModelEvaluationConfig):\n",
    "        # 🛠️ কনফিগারেশন অবজেক্ট স্টোর করা হচ্ছে\n",
    "        self.config = config\n",
    "\n",
    "    def eval_metrics(self, actual, pred):\n",
    "        # 📐 মডেলের পারফরমেন্স মেট্রিকস হিসেব করা হচ্ছে\n",
    "        rmse = np.sqrt(mean_squared_error(actual, pred))  # ✅ Root Mean Squared Error\n",
    "        mae = mean_absolute_error(actual, pred)           # ✅ Mean Absolute Error\n",
    "        r2 = r2_score(actual, pred)                        # ✅ R² স্কোর\n",
    "        return rmse, mae, r2  # 🔁 তিনটি মেট্রিক রিটার্ন করা হচ্ছে\n",
    "\n",
    "    def log_into_mlflow(self):\n",
    "        # 🧪 টেস্ট ডেটা লোড করা হচ্ছে\n",
    "        test_data = pd.read_csv(self.config.test_data_path)\n",
    "\n",
    "        # 🤖 ট্রেইন করা মডেল লোড করা হচ্ছে\n",
    "        model = joblib.load(self.config.model_path)\n",
    "\n",
    "        # 🎯 টার্গেট কলাম বাদ দিয়ে X এবং Y আলাদা করা হচ্ছে\n",
    "        test_x = test_data.drop([self.config.target_column], axis=1)\n",
    "        test_y = test_data[[self.config.target_column]]\n",
    "\n",
    "        # 🌐 MLflow ট্র্যাকিং URI সেট করা হচ্ছে\n",
    "        mlflow.set_registry_uri(self.config.mlflow_uri)\n",
    "        tracking_url_type_store = urlparse(mlflow.get_tracking_uri()).scheme\n",
    "\n",
    "        # 🚀 MLflow রান শুরু\n",
    "        with mlflow.start_run():\n",
    "            # 📊 প্রেডিকশন করা হচ্ছে\n",
    "            predicted_qualities = model.predict(test_x)\n",
    "\n",
    "            # 📏 মেট্রিকস ক্যালকুলেট করা হচ্ছে\n",
    "            (rmse, mae, r2) = self.eval_metrics(test_y, predicted_qualities)\n",
    "\n",
    "            # 💾 লোকালি মেট্রিকস ফাইল হিসেবে সংরক্ষণ\n",
    "            scores = {\"rmse\": rmse, \"mae\": mae, \"r2\": r2}\n",
    "            save_json(path=Path(self.config.metric_file_name), data=scores)\n",
    "\n",
    "            # 📋 MLflow-এ প্যারাম ও মেট্রিক লগ করা হচ্ছে\n",
    "            mlflow.log_params(self.config.all_params)\n",
    "            mlflow.log_metric(\"rmse\", rmse)\n",
    "            mlflow.log_metric(\"r2\", r2)\n",
    "            mlflow.log_metric(\"mae\", mae)\n",
    "\n",
    "            # 🏷️ ফাইল স্টোর না হলে মডেল রেজিস্ট্রি ব্যবহার করা হবে\n",
    "            if tracking_url_type_store != \"file\":\n",
    "                # 📚 মডেল রেজিস্ট্রি-তে মডেল সংরক্ষণ\n",
    "                mlflow.sklearn.log_model(model, \"model\", registered_model_name=\"ElasticnetModel\")\n",
    "            else:\n",
    "                # 📁 শুধুমাত্র মডেল লগ করা হচ্ছে\n",
    "                mlflow.sklearn.log_model(model, \"model\")\n"
   ]
  },
  {
   "cell_type": "code",
   "execution_count": 11,
   "id": "f91787ca",
   "metadata": {},
   "outputs": [
    {
     "name": "stdout",
     "output_type": "stream",
     "text": [
      "[2025-05-17 11:21:25,501: INFO: common: yaml file: config/config.yaml loaded successfully ✅]\n",
      "[2025-05-17 11:21:25,516: INFO: common: yaml file: params.yaml loaded successfully ✅]\n",
      "[2025-05-17 11:21:25,524: INFO: common: yaml file: schema.yaml loaded successfully ✅]\n",
      "[2025-05-17 11:21:25,532: INFO: common: ✅ ডিরেক্টরি তৈরি হয়েছে: artifacts]\n",
      "[2025-05-17 11:21:25,534: INFO: common: ✅ ডিরেক্টরি তৈরি হয়েছে: artifacts/model_evaluation]\n"
     ]
    },
    {
     "name": "stdout",
     "output_type": "stream",
     "text": [
      "[2025-05-17 11:21:27,833: INFO: common: ✅ JSON ফাইল সেভ হয়েছে: artifacts/model_evaluation/metrics.json]\n"
     ]
    },
    {
     "name": "stderr",
     "output_type": "stream",
     "text": [
      "/opt/anaconda3/envs/mlproject1/lib/python3.8/site-packages/_distutils_hack/__init__.py:31: UserWarning: Setuptools is replacing distutils. Support for replacing an already imported distutils is deprecated. In the future, this condition will fail. Register concerns at https://github.com/pypa/setuptools/issues/new?template=distutils-deprecation.yml\n",
      "  warnings.warn(\n",
      "Registered model 'ElasticnetModel' already exists. Creating a new version of this model...\n",
      "2025/05/17 11:21:40 INFO mlflow.tracking._model_registry.client: Waiting up to 300 seconds for model version to finish creation.                     Model name: ElasticnetModel, version 2\n",
      "Created version '2' of model 'ElasticnetModel'.\n"
     ]
    }
   ],
   "source": [
    "try:\n",
    "    config = ConfigurationManager()\n",
    "    model_evaluation_config = config.get_model_evaluation_config()\n",
    "    model_evaluation_config = ModelEvaluation(config=model_evaluation_config)\n",
    "    model_evaluation_config.log_into_mlflow()\n",
    "except Exception as e:\n",
    "    raise e"
   ]
  },
  {
   "cell_type": "code",
   "execution_count": null,
   "id": "a84c4e5b",
   "metadata": {},
   "outputs": [],
   "source": []
  }
 ],
 "metadata": {
  "kernelspec": {
   "display_name": "mlproject1",
   "language": "python",
   "name": "python3"
  },
  "language_info": {
   "codemirror_mode": {
    "name": "ipython",
    "version": 3
   },
   "file_extension": ".py",
   "mimetype": "text/x-python",
   "name": "python",
   "nbconvert_exporter": "python",
   "pygments_lexer": "ipython3",
   "version": "3.8.20"
  }
 },
 "nbformat": 4,
 "nbformat_minor": 5
}
