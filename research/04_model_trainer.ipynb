{
 "cells": [
  {
   "cell_type": "code",
   "execution_count": 1,
   "id": "88fefb47",
   "metadata": {},
   "outputs": [],
   "source": [
    "import os"
   ]
  },
  {
   "cell_type": "code",
   "execution_count": 2,
   "id": "10f775b7",
   "metadata": {},
   "outputs": [
    {
     "data": {
      "text/plain": [
       "'/Users/apple/Downloads/Project/Wine-Quality-Prediction-End-to-End-Project/research'"
      ]
     },
     "execution_count": 2,
     "metadata": {},
     "output_type": "execute_result"
    }
   ],
   "source": [
    "%pwd"
   ]
  },
  {
   "cell_type": "code",
   "execution_count": 3,
   "id": "cdcd619d",
   "metadata": {},
   "outputs": [],
   "source": [
    "os.chdir(\"../\")"
   ]
  },
  {
   "cell_type": "code",
   "execution_count": 4,
   "id": "d66e7ff7",
   "metadata": {},
   "outputs": [
    {
     "data": {
      "text/plain": [
       "'/Users/apple/Downloads/Project/Wine-Quality-Prediction-End-to-End-Project'"
      ]
     },
     "execution_count": 4,
     "metadata": {},
     "output_type": "execute_result"
    }
   ],
   "source": [
    "%pwd"
   ]
  },
  {
   "cell_type": "code",
   "execution_count": 6,
   "id": "c9e40b80",
   "metadata": {},
   "outputs": [],
   "source": [
    "from dataclasses import dataclass\n",
    "from pathlib import Path\n",
    "\n",
    "# 📦 ModelTrainerConfig: মডেল ট্রেইনারের কনফিগারেশন সংরক্ষণ করার জন্য একটি ডেটাক্লাস\n",
    "@dataclass(frozen=True)  # ❄️ frozen=True মানে এটি ইমিউটেবল হবে (ডেটা চেঞ্জ করা যাবে না)\n",
    "class ModelTrainerConfig:\n",
    "    root_dir: Path  # 🗂️ মূল ডিরেক্টরি যেখানে মডেল সংরক্ষণ হবে\n",
    "    train_data_path: Path  # 🧪 ট্রেইন ডেটার পাথ\n",
    "    test_data_path: Path  # 🔬 টেস্ট ডেটার পাথ\n",
    "    model_name: str  # 🏷️ মডেলের নাম (যেমন: ElasticNet)\n",
    "    alpha: float  # ⚙️ এলাস্টিক নেট মডেলের হাইপারপ্যারামিটার (রেগুলারাইজেশন স্ট্রেংথ)\n",
    "    l1_ratio: float  # ⚖️ L1 এবং L2 রেগুলারাইজেশনের মধ্যে ভারসাম্য (0 থেকে 1 এর মধ্যে মান)\n",
    "    target_column: str  # 🎯 টার্গেট কলামের নাম (যেটি প্রেডিক্ট করতে চাই)\n"
   ]
  },
  {
   "cell_type": "code",
   "execution_count": 7,
   "id": "4ac5e65a",
   "metadata": {},
   "outputs": [],
   "source": [
    "from mlProject.constants import *\n",
    "from mlProject.utils.common import read_yaml, create_directories"
   ]
  },
  {
   "cell_type": "code",
   "execution_count": 8,
   "id": "6f877bab",
   "metadata": {},
   "outputs": [],
   "source": [
    "class ConfigurationManager:\n",
    "    def __init__(\n",
    "        self,\n",
    "        config_filepath = CONFIG_FILE_PATH,       # 🛠️ মূল কনফিগ ফাইলের পাথ\n",
    "        params_filepath = PARAMS_FILE_PATH,       # ⚙️ প্যারামিটার সংক্রান্ত YAML ফাইলের পাথ\n",
    "        schema_filepath = SCHEMA_FILE_PATH):      # 🧬 স্কিমা ফাইলের পাথ (যেখানে টার্গেট কলাম ডেফাইন করা আছে)\n",
    "\n",
    "        # 🗂️ YAML ফাইলগুলো থেকে কনফিগ, প্যারামস এবং স্কিমা পড়া হচ্ছে\n",
    "        self.config = read_yaml(config_filepath)\n",
    "        self.params = read_yaml(params_filepath)\n",
    "        self.schema = read_yaml(schema_filepath)\n",
    "\n",
    "        # 📁 মূল আর্টিফ্যাক্ট ডিরেক্টরি তৈরি করা হচ্ছে\n",
    "        create_directories([self.config.artifacts_root])\n",
    "\n",
    "\n",
    "    # 🧠 এই ফাংশনটি মডেল ট্রেইনার কনফিগারেশন তৈরি করে রিটার্ন করবে\n",
    "    def get_model_trainer_config(self) -> ModelTrainerConfig:\n",
    "        config = self.config.model_trainer             # 🎯 মডেল ট্রেইনার সংক্রান্ত কনফিগ নেওয়া\n",
    "        params = self.params.ElasticNet                # 🔧 এলাস্টিকনেট এর হাইপারপ্যারামিটার নেওয়া\n",
    "        schema = self.schema.TARGET_COLUMN             # 🧾 টার্গেট কলামের নাম নেওয়া স্কিমা থেকে\n",
    "\n",
    "        # 📁 মডেল ট্রেইনারের জন্য ডিরেক্টরি তৈরি\n",
    "        create_directories([config.root_dir])\n",
    "\n",
    "        # ✅ ModelTrainerConfig অবজেক্ট তৈরি\n",
    "        model_trainer_config = ModelTrainerConfig(\n",
    "            root_dir=config.root_dir,                            # 📁 মূল ডিরেক্টরি\n",
    "            train_data_path = config.train_data_path,            # 🧪 ট্রেইন ডেটার লোকেশন\n",
    "            test_data_path = config.test_data_path,              # 🔬 টেস্ট ডেটার লোকেশন\n",
    "            model_name = config.model_name,                      # 🏷️ মডেলের নাম\n",
    "            alpha = params.alpha,                                # ⚙️ রেগুলারাইজেশন strength (alpha)\n",
    "            l1_ratio = params.l1_ratio,                          # ⚖️ L1-L2 ratio\n",
    "            target_column = schema.name                          # 🎯 টার্গেট কলামের নাম\n",
    "        )\n",
    "\n",
    "        return model_trainer_config  # 🔁 কনফিগ অবজেক্ট রিটার্ন করা হচ্ছে\n"
   ]
  },
  {
   "cell_type": "code",
   "execution_count": 9,
   "id": "71033252",
   "metadata": {},
   "outputs": [],
   "source": [
    "import pandas as pd\n",
    "import os\n",
    "from mlProject import logger\n",
    "from sklearn.linear_model import ElasticNet\n",
    "import joblib"
   ]
  },
  {
   "cell_type": "code",
   "execution_count": 10,
   "id": "cbb40e24",
   "metadata": {},
   "outputs": [],
   "source": [
    "class ModelTrainer:\n",
    "    def __init__(self, config: ModelTrainerConfig):\n",
    "        self.config = config  # 🛠️ কনফিগারেশন অবজেক্ট সংরক্ষণ করা হচ্ছে\n",
    "\n",
    "\n",
    "    def train(self):\n",
    "        # 📥 ট্রেইন ও টেস্ট ডেটা CSV ফাইল থেকে লোড করা হচ্ছে\n",
    "        train_data = pd.read_csv(self.config.train_data_path)\n",
    "        test_data = pd.read_csv(self.config.test_data_path)\n",
    "\n",
    "        # 🎯 ইনপুট (X) ও টার্গেট (Y) ফিচার আলাদা করা হচ্ছে\n",
    "        train_x = train_data.drop([self.config.target_column], axis=1)  # 🧪 ট্রেইন ইনপুট ফিচার\n",
    "        test_x = test_data.drop([self.config.target_column], axis=1)    # 🔬 টেস্ট ইনপুট ফিচার\n",
    "        train_y = train_data[[self.config.target_column]]               # 🎯 ট্রেইন টার্গেট\n",
    "        test_y = test_data[[self.config.target_column]]                 # 🎯 টেস্ট টার্গেট\n",
    "\n",
    "        # 🤖 মডেল ইনিশিয়ালাইজ করা হচ্ছে (ElasticNet রিগ্রেশন)\n",
    "        lr = ElasticNet(\n",
    "            alpha=self.config.alpha,            # 🔧 রেগুলারাইজেশন প্যারামিটার (alpha)\n",
    "            l1_ratio=self.config.l1_ratio,      # ⚖️ L1 এবং L2 এর ভারসাম্য\n",
    "            random_state=42                     # 🎲 র‍্যান্ডমনেস কনট্রোল\n",
    "        )\n",
    "\n",
    "        # 📚 মডেল ট্রেইন করা হচ্ছে\n",
    "        lr.fit(train_x, train_y)\n",
    "\n",
    "        # 💾 ট্রেইন করা মডেলটি `.pkl` ফাইলে সেভ করে রাখা হচ্ছে\n",
    "        joblib.dump(lr, os.path.join(self.config.root_dir, self.config.model_name))\n"
   ]
  },
  {
   "cell_type": "code",
   "execution_count": 11,
   "id": "13ea6d9c",
   "metadata": {},
   "outputs": [
    {
     "name": "stdout",
     "output_type": "stream",
     "text": [
      "[2025-05-16 15:31:18,311: INFO: common: yaml file: config/config.yaml loaded successfully ✅]\n",
      "[2025-05-16 15:31:18,318: INFO: common: yaml file: params.yaml loaded successfully ✅]\n",
      "[2025-05-16 15:31:18,382: INFO: common: yaml file: schema.yaml loaded successfully ✅]\n",
      "[2025-05-16 15:31:18,386: INFO: common: ✅ ডিরেক্টরি তৈরি হয়েছে: artifacts]\n",
      "[2025-05-16 15:31:18,392: INFO: common: ✅ ডিরেক্টরি তৈরি হয়েছে: artifacts/model_trainer]\n"
     ]
    }
   ],
   "source": [
    "try:\n",
    "    # ⚙️ কনফিগারেশন ম্যানেজার অবজেক্ট তৈরি করা হচ্ছে\n",
    "    config = ConfigurationManager()\n",
    "\n",
    "    # 📄 মডেল ট্রেইনার কনফিগারেশন লোড করা হচ্ছে\n",
    "    model_trainer_config = config.get_model_trainer_config()\n",
    "\n",
    "    # 🤖 মডেল ট্রেইনার অবজেক্ট তৈরি করা হচ্ছে\n",
    "    model_trainer = ModelTrainer(config=model_trainer_config)\n",
    "\n",
    "    # 🎯 মডেল ট্রেইন ফাংশন কল করা হচ্ছে\n",
    "    model_trainer.train()\n",
    "\n",
    "except Exception as e:\n",
    "    # ❌ কোনো এক্সসেপশন হলে সেটা রেইজ করে দেখানো হচ্ছে\n",
    "    raise e\n"
   ]
  },
  {
   "cell_type": "code",
   "execution_count": null,
   "id": "9d23d35d",
   "metadata": {},
   "outputs": [],
   "source": []
  }
 ],
 "metadata": {
  "kernelspec": {
   "display_name": "mlproject1",
   "language": "python",
   "name": "python3"
  },
  "language_info": {
   "codemirror_mode": {
    "name": "ipython",
    "version": 3
   },
   "file_extension": ".py",
   "mimetype": "text/x-python",
   "name": "python",
   "nbconvert_exporter": "python",
   "pygments_lexer": "ipython3",
   "version": "3.8.20"
  }
 },
 "nbformat": 4,
 "nbformat_minor": 5
}
