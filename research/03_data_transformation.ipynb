{
 "cells": [
  {
   "cell_type": "code",
   "execution_count": 1,
   "id": "044b4362",
   "metadata": {},
   "outputs": [],
   "source": [
    "import os"
   ]
  },
  {
   "cell_type": "code",
   "execution_count": 2,
   "id": "009c4083",
   "metadata": {},
   "outputs": [
    {
     "data": {
      "text/plain": [
       "'/Users/apple/Downloads/Project/Wine-Quality-Prediction-End-to-End-Project/research'"
      ]
     },
     "execution_count": 2,
     "metadata": {},
     "output_type": "execute_result"
    }
   ],
   "source": [
    "%pwd"
   ]
  },
  {
   "cell_type": "code",
   "execution_count": 3,
   "id": "51c4be90",
   "metadata": {},
   "outputs": [],
   "source": [
    "os.chdir(\"../\")"
   ]
  },
  {
   "cell_type": "code",
   "execution_count": 4,
   "id": "934d5ec2",
   "metadata": {},
   "outputs": [
    {
     "data": {
      "text/plain": [
       "'/Users/apple/Downloads/Project/Wine-Quality-Prediction-End-to-End-Project'"
      ]
     },
     "execution_count": 4,
     "metadata": {},
     "output_type": "execute_result"
    }
   ],
   "source": [
    "%pwd"
   ]
  },
  {
   "cell_type": "code",
   "execution_count": 5,
   "id": "21cacef7",
   "metadata": {},
   "outputs": [],
   "source": [
    "from dataclasses import dataclass\n",
    "from pathlib import Path\n",
    "\n",
    "\n",
    "@dataclass(frozen=True)\n",
    "class DataTransformationConfig:\n",
    "    root_dir: Path\n",
    "    data_path: Path"
   ]
  },
  {
   "cell_type": "code",
   "execution_count": 6,
   "id": "3f887a32",
   "metadata": {},
   "outputs": [],
   "source": [
    "from mlProject.constants import *\n",
    "from mlProject.utils.common import read_yaml, create_directories"
   ]
  },
  {
   "cell_type": "code",
   "execution_count": 7,
   "id": "a2775f16",
   "metadata": {},
   "outputs": [],
   "source": [
    "class ConfigurationManager:\n",
    "    def __init__(\n",
    "        self,\n",
    "        config_filepath = CONFIG_FILE_PATH,\n",
    "        params_filepath = PARAMS_FILE_PATH,\n",
    "        schema_filepath = SCHEMA_FILE_PATH):\n",
    "\n",
    "        self.config = read_yaml(config_filepath)\n",
    "        self.params = read_yaml(params_filepath)\n",
    "        self.schema = read_yaml(schema_filepath)\n",
    "\n",
    "        create_directories([self.config.artifacts_root])\n",
    "\n",
    "\n",
    "    \n",
    "    def get_data_transformation_config(self) -> DataTransformationConfig:\n",
    "        config = self.config.data_transformation\n",
    "\n",
    "        create_directories([config.root_dir])\n",
    "\n",
    "        data_transformation_config = DataTransformationConfig(\n",
    "            root_dir=config.root_dir,\n",
    "            data_path=config.data_path,\n",
    "        )\n",
    "\n",
    "        return data_transformation_config"
   ]
  },
  {
   "cell_type": "code",
   "execution_count": 8,
   "id": "4eb183b8",
   "metadata": {},
   "outputs": [],
   "source": [
    "import os\n",
    "from mlProject import logger\n",
    "from sklearn.model_selection import train_test_split\n",
    "import pandas as pd"
   ]
  },
  {
   "cell_type": "code",
   "execution_count": 9,
   "id": "0d5c674d",
   "metadata": {},
   "outputs": [],
   "source": [
    "class DataTransformation:\n",
    "    def __init__(self, config: DataTransformationConfig):\n",
    "        self.config = config\n",
    "\n",
    "\n",
    "    ## 🔍 নোট: এখানে তুমি চাইলে বিভিন্ন ডেটা ট্রান্সফরমেশন টেকনিক যেমনঃ Scaler, PCA ইত্যাদি যোগ করতে পারো\n",
    "    ## 📊 এছাড়া যেকোনো ধরনের EDA (Exploratory Data Analysis) এখানে করতে পারো মডেলে পাঠানোর আগে\n",
    "\n",
    "    ## 🧹 কিন্তু আমাদের ডেটা আগেই পরিষ্কার করা আছে, তাই আমরা শুধুমাত্র train-test split করবো\n",
    "\n",
    "\n",
    "    def train_test_spliting(self):\n",
    "        # 📥 ডেটা পড়া হচ্ছে নির্দিষ্ট path থেকে\n",
    "        data = pd.read_csv(self.config.data_path)\n",
    "\n",
    "        # ✂️ ডেটাকে ট্রেইন ও টেস্ট সেটে ভাগ করছি (৭৫% ট্রেইন, ২৫% টেস্ট)\n",
    "        train, test = train_test_split(data)\n",
    "\n",
    "        # 💾 ট্রেইন ডেটাকে সংরক্ষণ করছি train.csv ফাইলে\n",
    "        train.to_csv(os.path.join(self.config.root_dir, \"train.csv\"), index=False)\n",
    "\n",
    "        # 💾 টেস্ট ডেটাও সংরক্ষণ করছি test.csv ফাইলে\n",
    "        test.to_csv(os.path.join(self.config.root_dir, \"test.csv\"), index=False)\n",
    "\n",
    "        # 📋 লগের মাধ্যমে তথ্য নিচ্ছি\n",
    "        logger.info(\"✅ ডেটাকে ট্রেইন ও টেস্ট সেটে ভাগ করা হয়েছে সফলভাবে!\")\n",
    "        logger.info(train.shape)\n",
    "        logger.info(test.shape)\n",
    "\n",
    "        # 👀 আকার দেখে নিচ্ছি ট্রেইন এবং টেস্ট ডেটার\n",
    "        print(train.shape)\n",
    "        print(test.shape)\n"
   ]
  },
  {
   "cell_type": "code",
   "execution_count": null,
   "id": "7bd05dbe",
   "metadata": {},
   "outputs": [
    {
     "name": "stdout",
     "output_type": "stream",
     "text": [
      "[2025-05-16 11:44:50,325: INFO: common: yaml file: config/config.yaml loaded successfully ✅]\n",
      "[2025-05-16 11:44:50,328: INFO: common: yaml file: params.yaml loaded successfully ✅]\n",
      "[2025-05-16 11:44:50,346: INFO: common: yaml file: schema.yaml loaded successfully ✅]\n",
      "[2025-05-16 11:44:50,350: INFO: common: ✅ ডিরেক্টরি তৈরি হয়েছে: artifacts]\n",
      "[2025-05-16 11:44:50,356: INFO: common: ✅ ডিরেক্টরি তৈরি হয়েছে: artifacts/data_transformation]\n",
      "[2025-05-16 11:44:50,647: INFO: 2166620710: ✅ ডেটাকে ট্রেইন ও টেস্ট সেটে ভাগ করা হয়েছে সফলভাবে!]\n",
      "[2025-05-16 11:44:50,661: INFO: 2166620710: (1199, 12)]\n",
      "[2025-05-16 11:44:50,803: INFO: 2166620710: (400, 12)]\n",
      "(1199, 12)\n",
      "(400, 12)\n"
     ]
    }
   ],
   "source": [
    "try:\n",
    "    # ⚙️ কনফিগারেশন ম্যানেজার তৈরি করা হচ্ছে\n",
    "    config = ConfigurationManager()\n",
    "    \n",
    "    # 📁 ডেটা ট্রান্সফরমেশন কনফিগ রিড করা হচ্ছে\n",
    "    data_transformation_config = config.get_data_transformation_config()\n",
    "    \n",
    "    # 🧠 ডেটা ট্রান্সফরমেশন অবজেক্ট তৈরি করা হচ্ছে\n",
    "    data_transformation = DataTransformation(config=data_transformation_config)\n",
    "    \n",
    "    # ✂️ ডেটাকে ট্রেইন-টেস্ট সেটে ভাগ করা হচ্ছে\n",
    "    data_transformation.train_test_spliting()\n",
    "\n",
    "except Exception as e:\n",
    "    # ⚠️ যদি কোনো সমস্যা হয় তাহলে সেটি তুলে ধরা হবে\n",
    "    raise e  \n"
   ]
  },
  {
   "cell_type": "code",
   "execution_count": null,
   "id": "f4c4d5f7",
   "metadata": {},
   "outputs": [],
   "source": []
  }
 ],
 "metadata": {
  "kernelspec": {
   "display_name": "mlproject1",
   "language": "python",
   "name": "python3"
  },
  "language_info": {
   "codemirror_mode": {
    "name": "ipython",
    "version": 3
   },
   "file_extension": ".py",
   "mimetype": "text/x-python",
   "name": "python",
   "nbconvert_exporter": "python",
   "pygments_lexer": "ipython3",
   "version": "3.8.20"
  }
 },
 "nbformat": 4,
 "nbformat_minor": 5
}
